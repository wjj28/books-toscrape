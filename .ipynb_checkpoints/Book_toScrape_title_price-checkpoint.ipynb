{
 "cells": [
  {
   "cell_type": "code",
   "execution_count": 1,
   "id": "0bec0c07",
   "metadata": {},
   "outputs": [],
   "source": [
    "import requests\n",
    "from bs4 import BeautifulSoup as BS\n",
    "import pandas as pd\n",
    "import matplotlib.pyplot as plt"
   ]
  },
  {
   "cell_type": "markdown",
   "id": "430d786b",
   "metadata": {},
   "source": [
    "### set the URL for the page we want to scrape"
   ]
  },
  {
   "cell_type": "code",
   "execution_count": 2,
   "id": "5d09eec8",
   "metadata": {},
   "outputs": [],
   "source": [
    "url = \"http://books.toscrape.com/index.html\"\n",
    "response=requests.get(url)\n",
    "html = response.content\n",
    "scraped = BS(html, 'html.parser')"
   ]
  },
  {
   "cell_type": "code",
   "execution_count": 3,
   "id": "28b6ce0f",
   "metadata": {},
   "outputs": [
    {
     "data": {
      "text/plain": [
       "<title>\n",
       "    All products | Books to Scrape - Sandbox\n",
       "</title>"
      ]
     },
     "execution_count": 3,
     "metadata": {},
     "output_type": "execute_result"
    }
   ],
   "source": [
    "scraped.find(\"title\")"
   ]
  },
  {
   "cell_type": "code",
   "execution_count": 4,
   "id": "31232bb1",
   "metadata": {},
   "outputs": [
    {
     "data": {
      "text/plain": [
       "<title>\n",
       "    All products | Books to Scrape - Sandbox\n",
       "</title>"
      ]
     },
     "execution_count": 4,
     "metadata": {},
     "output_type": "execute_result"
    }
   ],
   "source": [
    "scraped.title"
   ]
  },
  {
   "cell_type": "markdown",
   "id": "56a9c7e8",
   "metadata": {},
   "source": [
    "access the content without the title tag"
   ]
  },
  {
   "cell_type": "code",
   "execution_count": 5,
   "id": "ba31ea4c",
   "metadata": {},
   "outputs": [
    {
     "data": {
      "text/plain": [
       "'\\n    All products | Books to Scrape - Sandbox\\n'"
      ]
     },
     "execution_count": 5,
     "metadata": {},
     "output_type": "execute_result"
    }
   ],
   "source": [
    "scraped.title.text"
   ]
  },
  {
   "cell_type": "markdown",
   "id": "864d05df",
   "metadata": {},
   "source": [
    "### just the title (clean)"
   ]
  },
  {
   "cell_type": "code",
   "execution_count": 6,
   "id": "35e4e0cd",
   "metadata": {},
   "outputs": [
    {
     "data": {
      "text/plain": [
       "'All products | Books to Scrape - Sandbox'"
      ]
     },
     "execution_count": 6,
     "metadata": {},
     "output_type": "execute_result"
    }
   ],
   "source": [
    "scraped.title.text.strip() "
   ]
  },
  {
   "cell_type": "code",
   "execution_count": 7,
   "id": "7b770630",
   "metadata": {},
   "outputs": [
    {
     "data": {
      "text/plain": [
       "<h1>All products</h1>"
      ]
     },
     "execution_count": 7,
     "metadata": {},
     "output_type": "execute_result"
    }
   ],
   "source": [
    "scraped.h1"
   ]
  },
  {
   "cell_type": "code",
   "execution_count": 8,
   "id": "9387f8a7",
   "metadata": {},
   "outputs": [
    {
     "data": {
      "text/plain": [
       "<a href=\"catalogue/a-light-in-the-attic_1000/index.html\" title=\"A Light in the Attic\">A Light in the ...</a>"
      ]
     },
     "execution_count": 8,
     "metadata": {},
     "output_type": "execute_result"
    }
   ],
   "source": [
    "scraped.article.h3.a"
   ]
  },
  {
   "cell_type": "code",
   "execution_count": 9,
   "id": "47cdba3a",
   "metadata": {},
   "outputs": [
    {
     "data": {
      "text/plain": [
       "'A Light in the Attic'"
      ]
     },
     "execution_count": 9,
     "metadata": {},
     "output_type": "execute_result"
    }
   ],
   "source": [
    "scraped.article.h3.a[\"title\"]"
   ]
  },
  {
   "cell_type": "code",
   "execution_count": 10,
   "id": "df37a598",
   "metadata": {},
   "outputs": [],
   "source": [
    "all_books = scraped.find_all(\"article\")"
   ]
  },
  {
   "cell_type": "code",
   "execution_count": 11,
   "id": "8ae88548",
   "metadata": {},
   "outputs": [
    {
     "name": "stdout",
     "output_type": "stream",
     "text": [
      "A Light in the Attic\n",
      "Tipping the Velvet\n",
      "Soumission\n",
      "Sharp Objects\n",
      "Sapiens: A Brief History of Humankind\n",
      "The Requiem Red\n",
      "The Dirty Little Secrets of Getting Your Dream Job\n",
      "The Coming Woman: A Novel Based on the Life of the Infamous Feminist, Victoria Woodhull\n",
      "The Boys in the Boat: Nine Americans and Their Epic Quest for Gold at the 1936 Berlin Olympics\n",
      "The Black Maria\n",
      "Starving Hearts (Triangular Trade Trilogy, #1)\n",
      "Shakespeare's Sonnets\n",
      "Set Me Free\n",
      "Scott Pilgrim's Precious Little Life (Scott Pilgrim #1)\n",
      "Rip it Up and Start Again\n",
      "Our Band Could Be Your Life: Scenes from the American Indie Underground, 1981-1991\n",
      "Olio\n",
      "Mesaerion: The Best Science Fiction Stories 1800-1849\n",
      "Libertarianism for Beginners\n",
      "It's Only the Himalayas\n"
     ]
    }
   ],
   "source": [
    "#title\n",
    "for book in all_books:\n",
    "    print(book.h3.a['title'])"
   ]
  },
  {
   "cell_type": "code",
   "execution_count": 12,
   "id": "184f96c1",
   "metadata": {},
   "outputs": [
    {
     "name": "stdout",
     "output_type": "stream",
     "text": [
      "£51.77\n",
      "£53.74\n",
      "£50.10\n",
      "£47.82\n",
      "£54.23\n",
      "£22.65\n",
      "£33.34\n",
      "£17.93\n",
      "£22.60\n",
      "£52.15\n",
      "£13.99\n",
      "£20.66\n",
      "£17.46\n",
      "£52.29\n",
      "£35.02\n",
      "£57.25\n",
      "£23.88\n",
      "£37.59\n",
      "£51.33\n",
      "£45.17\n"
     ]
    }
   ],
   "source": [
    "#price\n",
    "for book in all_books:\n",
    "    price = book.find(\"p\", class_=\"price_color\").text\n",
    "    print(price)"
   ]
  },
  {
   "cell_type": "code",
   "execution_count": 13,
   "id": "ab72fcdc",
   "metadata": {
    "scrolled": true
   },
   "outputs": [],
   "source": [
    "#price & title\n",
    "book\n",
    "books_info = []\n",
    "books_title = []\n",
    "books_price = []\n",
    "\n",
    "for book in all_books:\n",
    "    title = book.h3.a['title']\n",
    "       \n",
    "    price = book.find(\"p\", class_=\"price_color\").text\n",
    "    \n",
    "    \n",
    "    books_title.append(title)\n",
    "    books_price.append(price)\n",
    "    books_info.append({title:price})\n",
    "  \n"
   ]
  },
  {
   "cell_type": "markdown",
   "id": "c307310b",
   "metadata": {},
   "source": [
    "### A table to display title and price"
   ]
  },
  {
   "cell_type": "code",
   "execution_count": 14,
   "id": "688da44f",
   "metadata": {},
   "outputs": [
    {
     "data": {
      "text/html": [
       "<div>\n",
       "<style scoped>\n",
       "    .dataframe tbody tr th:only-of-type {\n",
       "        vertical-align: middle;\n",
       "    }\n",
       "\n",
       "    .dataframe tbody tr th {\n",
       "        vertical-align: top;\n",
       "    }\n",
       "\n",
       "    .dataframe thead th {\n",
       "        text-align: right;\n",
       "    }\n",
       "</style>\n",
       "<table border=\"1\" class=\"dataframe\">\n",
       "  <thead>\n",
       "    <tr style=\"text-align: right;\">\n",
       "      <th></th>\n",
       "      <th>Book Title</th>\n",
       "      <th>Price</th>\n",
       "    </tr>\n",
       "  </thead>\n",
       "  <tbody>\n",
       "    <tr>\n",
       "      <th>0</th>\n",
       "      <td>A Light in the Attic</td>\n",
       "      <td>£51.77</td>\n",
       "    </tr>\n",
       "    <tr>\n",
       "      <th>1</th>\n",
       "      <td>Tipping the Velvet</td>\n",
       "      <td>£53.74</td>\n",
       "    </tr>\n",
       "    <tr>\n",
       "      <th>2</th>\n",
       "      <td>Soumission</td>\n",
       "      <td>£50.10</td>\n",
       "    </tr>\n",
       "    <tr>\n",
       "      <th>3</th>\n",
       "      <td>Sharp Objects</td>\n",
       "      <td>£47.82</td>\n",
       "    </tr>\n",
       "    <tr>\n",
       "      <th>4</th>\n",
       "      <td>Sapiens: A Brief History of Humankind</td>\n",
       "      <td>£54.23</td>\n",
       "    </tr>\n",
       "    <tr>\n",
       "      <th>5</th>\n",
       "      <td>The Requiem Red</td>\n",
       "      <td>£22.65</td>\n",
       "    </tr>\n",
       "    <tr>\n",
       "      <th>6</th>\n",
       "      <td>The Dirty Little Secrets of Getting Your Dream...</td>\n",
       "      <td>£33.34</td>\n",
       "    </tr>\n",
       "    <tr>\n",
       "      <th>7</th>\n",
       "      <td>The Coming Woman: A Novel Based on the Life of...</td>\n",
       "      <td>£17.93</td>\n",
       "    </tr>\n",
       "    <tr>\n",
       "      <th>8</th>\n",
       "      <td>The Boys in the Boat: Nine Americans and Their...</td>\n",
       "      <td>£22.60</td>\n",
       "    </tr>\n",
       "    <tr>\n",
       "      <th>9</th>\n",
       "      <td>The Black Maria</td>\n",
       "      <td>£52.15</td>\n",
       "    </tr>\n",
       "    <tr>\n",
       "      <th>10</th>\n",
       "      <td>Starving Hearts (Triangular Trade Trilogy, #1)</td>\n",
       "      <td>£13.99</td>\n",
       "    </tr>\n",
       "    <tr>\n",
       "      <th>11</th>\n",
       "      <td>Shakespeare's Sonnets</td>\n",
       "      <td>£20.66</td>\n",
       "    </tr>\n",
       "    <tr>\n",
       "      <th>12</th>\n",
       "      <td>Set Me Free</td>\n",
       "      <td>£17.46</td>\n",
       "    </tr>\n",
       "    <tr>\n",
       "      <th>13</th>\n",
       "      <td>Scott Pilgrim's Precious Little Life (Scott Pi...</td>\n",
       "      <td>£52.29</td>\n",
       "    </tr>\n",
       "    <tr>\n",
       "      <th>14</th>\n",
       "      <td>Rip it Up and Start Again</td>\n",
       "      <td>£35.02</td>\n",
       "    </tr>\n",
       "    <tr>\n",
       "      <th>15</th>\n",
       "      <td>Our Band Could Be Your Life: Scenes from the A...</td>\n",
       "      <td>£57.25</td>\n",
       "    </tr>\n",
       "    <tr>\n",
       "      <th>16</th>\n",
       "      <td>Olio</td>\n",
       "      <td>£23.88</td>\n",
       "    </tr>\n",
       "    <tr>\n",
       "      <th>17</th>\n",
       "      <td>Mesaerion: The Best Science Fiction Stories 18...</td>\n",
       "      <td>£37.59</td>\n",
       "    </tr>\n",
       "    <tr>\n",
       "      <th>18</th>\n",
       "      <td>Libertarianism for Beginners</td>\n",
       "      <td>£51.33</td>\n",
       "    </tr>\n",
       "    <tr>\n",
       "      <th>19</th>\n",
       "      <td>It's Only the Himalayas</td>\n",
       "      <td>£45.17</td>\n",
       "    </tr>\n",
       "  </tbody>\n",
       "</table>\n",
       "</div>"
      ],
      "text/plain": [
       "                                           Book Title   Price\n",
       "0                                A Light in the Attic  £51.77\n",
       "1                                  Tipping the Velvet  £53.74\n",
       "2                                          Soumission  £50.10\n",
       "3                                       Sharp Objects  £47.82\n",
       "4               Sapiens: A Brief History of Humankind  £54.23\n",
       "5                                     The Requiem Red  £22.65\n",
       "6   The Dirty Little Secrets of Getting Your Dream...  £33.34\n",
       "7   The Coming Woman: A Novel Based on the Life of...  £17.93\n",
       "8   The Boys in the Boat: Nine Americans and Their...  £22.60\n",
       "9                                     The Black Maria  £52.15\n",
       "10     Starving Hearts (Triangular Trade Trilogy, #1)  £13.99\n",
       "11                              Shakespeare's Sonnets  £20.66\n",
       "12                                        Set Me Free  £17.46\n",
       "13  Scott Pilgrim's Precious Little Life (Scott Pi...  £52.29\n",
       "14                          Rip it Up and Start Again  £35.02\n",
       "15  Our Band Could Be Your Life: Scenes from the A...  £57.25\n",
       "16                                               Olio  £23.88\n",
       "17  Mesaerion: The Best Science Fiction Stories 18...  £37.59\n",
       "18                       Libertarianism for Beginners  £51.33\n",
       "19                            It's Only the Himalayas  £45.17"
      ]
     },
     "execution_count": 14,
     "metadata": {},
     "output_type": "execute_result"
    }
   ],
   "source": [
    "#price & title\n",
    "d = []\n",
    "book = []\n",
    "books_info = []\n",
    "books_title = []\n",
    "books_price = []\n",
    "\n",
    "for book in all_books:\n",
    "    title = book.h3.a['title']\n",
    "    price = book.find(\"p\", class_=\"price_color\").text\n",
    "    d.append({\n",
    "        \n",
    "        'Book Title':title,\n",
    "        'Price':price\n",
    "        \n",
    "    }\n",
    "    \n",
    "    \n",
    "    )\n",
    "    \n",
    "pd.DataFrame(d)\n",
    "  \n"
   ]
  },
  {
   "cell_type": "code",
   "execution_count": null,
   "id": "c483b7e7",
   "metadata": {},
   "outputs": [],
   "source": []
  }
 ],
 "metadata": {
  "kernelspec": {
   "display_name": "Python 3",
   "language": "python",
   "name": "python3"
  },
  "language_info": {
   "codemirror_mode": {
    "name": "ipython",
    "version": 3
   },
   "file_extension": ".py",
   "mimetype": "text/x-python",
   "name": "python",
   "nbconvert_exporter": "python",
   "pygments_lexer": "ipython3",
   "version": "3.8.1"
  }
 },
 "nbformat": 4,
 "nbformat_minor": 5
}
