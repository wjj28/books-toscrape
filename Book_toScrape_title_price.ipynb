{
 "cells": [
  {
   "cell_type": "code",
   "execution_count": 111,
   "id": "0bec0c07",
   "metadata": {},
   "outputs": [],
   "source": [
    "import requests\n",
    "from bs4 import BeautifulSoup as BS\n",
    "import pandas as pd\n",
    "import matplotlib.pyplot as plt\n",
    "import matplotlib.image as mpim"
   ]
  },
  {
   "cell_type": "markdown",
   "id": "430d786b",
   "metadata": {},
   "source": [
    "### set the URL for the page we want to scrape"
   ]
  },
  {
   "cell_type": "code",
   "execution_count": 2,
   "id": "5d09eec8",
   "metadata": {},
   "outputs": [],
   "source": [
    "url = \"http://books.toscrape.com/index.html\"\n",
    "response=requests.get(url)\n",
    "html = response.content\n",
    "scraped = BS(html, 'html.parser')"
   ]
  },
  {
   "cell_type": "code",
   "execution_count": 3,
   "id": "28b6ce0f",
   "metadata": {},
   "outputs": [
    {
     "data": {
      "text/plain": [
       "<title>\n",
       "    All products | Books to Scrape - Sandbox\n",
       "</title>"
      ]
     },
     "execution_count": 3,
     "metadata": {},
     "output_type": "execute_result"
    }
   ],
   "source": [
    "scraped.find(\"title\")"
   ]
  },
  {
   "cell_type": "code",
   "execution_count": 4,
   "id": "31232bb1",
   "metadata": {},
   "outputs": [
    {
     "data": {
      "text/plain": [
       "<title>\n",
       "    All products | Books to Scrape - Sandbox\n",
       "</title>"
      ]
     },
     "execution_count": 4,
     "metadata": {},
     "output_type": "execute_result"
    }
   ],
   "source": [
    "scraped.title"
   ]
  },
  {
   "cell_type": "markdown",
   "id": "56a9c7e8",
   "metadata": {},
   "source": [
    "access the content without the title tag"
   ]
  },
  {
   "cell_type": "code",
   "execution_count": 5,
   "id": "ba31ea4c",
   "metadata": {},
   "outputs": [
    {
     "data": {
      "text/plain": [
       "'\\n    All products | Books to Scrape - Sandbox\\n'"
      ]
     },
     "execution_count": 5,
     "metadata": {},
     "output_type": "execute_result"
    }
   ],
   "source": [
    "scraped.title.text"
   ]
  },
  {
   "cell_type": "markdown",
   "id": "864d05df",
   "metadata": {},
   "source": [
    "### just the title (clean)"
   ]
  },
  {
   "cell_type": "code",
   "execution_count": 6,
   "id": "35e4e0cd",
   "metadata": {},
   "outputs": [
    {
     "data": {
      "text/plain": [
       "'All products | Books to Scrape - Sandbox'"
      ]
     },
     "execution_count": 6,
     "metadata": {},
     "output_type": "execute_result"
    }
   ],
   "source": [
    "scraped.title.text.strip() "
   ]
  },
  {
   "cell_type": "code",
   "execution_count": 7,
   "id": "7b770630",
   "metadata": {},
   "outputs": [
    {
     "data": {
      "text/plain": [
       "<h1>All products</h1>"
      ]
     },
     "execution_count": 7,
     "metadata": {},
     "output_type": "execute_result"
    }
   ],
   "source": [
    "scraped.h1"
   ]
  },
  {
   "cell_type": "code",
   "execution_count": 8,
   "id": "9387f8a7",
   "metadata": {},
   "outputs": [
    {
     "data": {
      "text/plain": [
       "<a href=\"catalogue/a-light-in-the-attic_1000/index.html\" title=\"A Light in the Attic\">A Light in the ...</a>"
      ]
     },
     "execution_count": 8,
     "metadata": {},
     "output_type": "execute_result"
    }
   ],
   "source": [
    "scraped.article.h3.a"
   ]
  },
  {
   "cell_type": "code",
   "execution_count": 108,
   "id": "47cdba3a",
   "metadata": {},
   "outputs": [
    {
     "data": {
      "text/plain": [
       "'A Light in the Attic'"
      ]
     },
     "execution_count": 108,
     "metadata": {},
     "output_type": "execute_result"
    }
   ],
   "source": [
    "scraped.article.h3.a[\"title\"]"
   ]
  },
  {
   "cell_type": "code",
   "execution_count": 109,
   "id": "df37a598",
   "metadata": {},
   "outputs": [],
   "source": [
    "all_books = scraped.find_all(\"article\")"
   ]
  },
  {
   "cell_type": "code",
   "execution_count": 104,
   "id": "8ae88548",
   "metadata": {},
   "outputs": [
    {
     "name": "stdout",
     "output_type": "stream",
     "text": [
      "A Light in the Attic\n",
      "Tipping the Velvet\n",
      "Soumission\n",
      "Sharp Objects\n",
      "Sapiens: A Brief History of Humankind\n",
      "The Requiem Red\n",
      "The Dirty Little Secrets of Getting Your Dream Job\n",
      "The Coming Woman: A Novel Based on the Life of the Infamous Feminist, Victoria Woodhull\n",
      "The Boys in the Boat: Nine Americans and Their Epic Quest for Gold at the 1936 Berlin Olympics\n",
      "The Black Maria\n",
      "Starving Hearts (Triangular Trade Trilogy, #1)\n",
      "Shakespeare's Sonnets\n",
      "Set Me Free\n",
      "Scott Pilgrim's Precious Little Life (Scott Pilgrim #1)\n",
      "Rip it Up and Start Again\n",
      "Our Band Could Be Your Life: Scenes from the American Indie Underground, 1981-1991\n",
      "Olio\n",
      "Mesaerion: The Best Science Fiction Stories 1800-1849\n",
      "Libertarianism for Beginners\n",
      "It's Only the Himalayas\n"
     ]
    }
   ],
   "source": [
    "#title\n",
    "for book in all_books:\n",
    "    print(book.h3.a['title'])"
   ]
  },
  {
   "cell_type": "code",
   "execution_count": 12,
   "id": "184f96c1",
   "metadata": {},
   "outputs": [
    {
     "name": "stdout",
     "output_type": "stream",
     "text": [
      "£51.77\n",
      "£53.74\n",
      "£50.10\n",
      "£47.82\n",
      "£54.23\n",
      "£22.65\n",
      "£33.34\n",
      "£17.93\n",
      "£22.60\n",
      "£52.15\n",
      "£13.99\n",
      "£20.66\n",
      "£17.46\n",
      "£52.29\n",
      "£35.02\n",
      "£57.25\n",
      "£23.88\n",
      "£37.59\n",
      "£51.33\n",
      "£45.17\n"
     ]
    }
   ],
   "source": [
    "#price\n",
    "for book in all_books:\n",
    "    price = book.find(\"p\", class_=\"price_color\").text\n",
    "    print(price)"
   ]
  },
  {
   "cell_type": "code",
   "execution_count": 84,
   "id": "ab72fcdc",
   "metadata": {
    "scrolled": true
   },
   "outputs": [],
   "source": [
    "#price & title\n",
    "book\n",
    "books_info = []\n",
    "books_title = []\n",
    "books_price = []\n",
    "\n",
    "for book in all_books:\n",
    "    title = book.h3.a['title']\n",
    "       \n",
    "    price = book.find(\"p\", class_=\"price_color\").text\n",
    "    \n",
    "    \n",
    "    books_title.append(title)\n",
    "    books_price.append(price)\n",
    "    books_info.append({title:price})\n",
    "  \n"
   ]
  },
  {
   "cell_type": "markdown",
   "id": "c307310b",
   "metadata": {},
   "source": [
    "### A table to display title and price"
   ]
  },
  {
   "cell_type": "code",
   "execution_count": 2,
   "id": "688da44f",
   "metadata": {},
   "outputs": [
    {
     "ename": "NameError",
     "evalue": "name 'book' is not defined",
     "output_type": "error",
     "traceback": [
      "\u001b[1;31m---------------------------------------------------------------------------\u001b[0m",
      "\u001b[1;31mNameError\u001b[0m                                 Traceback (most recent call last)",
      "\u001b[1;32m<ipython-input-2-280e162fbe91>\u001b[0m in \u001b[0;36m<module>\u001b[1;34m\u001b[0m\n\u001b[0;32m      1\u001b[0m \u001b[1;31m#price & title\u001b[0m\u001b[1;33m\u001b[0m\u001b[1;33m\u001b[0m\u001b[1;33m\u001b[0m\u001b[0m\n\u001b[0;32m      2\u001b[0m \u001b[0md\u001b[0m \u001b[1;33m=\u001b[0m \u001b[1;33m[\u001b[0m\u001b[1;33m]\u001b[0m\u001b[1;33m\u001b[0m\u001b[1;33m\u001b[0m\u001b[0m\n\u001b[1;32m----> 3\u001b[1;33m \u001b[0mbook\u001b[0m\u001b[1;33m\u001b[0m\u001b[1;33m\u001b[0m\u001b[0m\n\u001b[0m\u001b[0;32m      4\u001b[0m \u001b[0mbooks_info\u001b[0m \u001b[1;33m=\u001b[0m \u001b[1;33m[\u001b[0m\u001b[1;33m]\u001b[0m\u001b[1;33m\u001b[0m\u001b[1;33m\u001b[0m\u001b[0m\n\u001b[0;32m      5\u001b[0m \u001b[0mbooks_title\u001b[0m \u001b[1;33m=\u001b[0m \u001b[1;33m[\u001b[0m\u001b[1;33m]\u001b[0m\u001b[1;33m\u001b[0m\u001b[1;33m\u001b[0m\u001b[0m\n",
      "\u001b[1;31mNameError\u001b[0m: name 'book' is not defined"
     ]
    }
   ],
   "source": [
    "#price & title\n",
    "d = []\n",
    "book\n",
    "books_info = []\n",
    "books_title = []\n",
    "books_price = []\n",
    "\n",
    "for book in all_books:\n",
    "    title = book.h3.a['title']\n",
    "    price = book.find(\"p\", class_=\"price_color\").text\n",
    "    d.append({\n",
    "        \n",
    "        'Book Title':title,\n",
    "        'Price':price\n",
    "        \n",
    "    }\n",
    "    \n",
    "    \n",
    "    )\n",
    "    \n",
    "pd.DataFrame(d)\n",
    "  \n"
   ]
  },
  {
   "cell_type": "code",
   "execution_count": null,
   "id": "c483b7e7",
   "metadata": {},
   "outputs": [],
   "source": []
  }
 ],
 "metadata": {
  "kernelspec": {
   "display_name": "Python 3",
   "language": "python",
   "name": "python3"
  },
  "language_info": {
   "codemirror_mode": {
    "name": "ipython",
    "version": 3
   },
   "file_extension": ".py",
   "mimetype": "text/x-python",
   "name": "python",
   "nbconvert_exporter": "python",
   "pygments_lexer": "ipython3",
   "version": "3.8.1"
  }
 },
 "nbformat": 4,
 "nbformat_minor": 5
}
